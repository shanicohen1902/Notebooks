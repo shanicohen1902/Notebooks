{
 "cells": [
  {
   "cell_type": "markdown",
   "metadata": {},
   "source": [
    "# <span style=\"align: right; direction: rtl; float: right; clear: both;\">תרגילים</span>"
   ]
  },
  {
   "cell_type": "markdown",
   "metadata": {},
   "source": [
    "### <span style=\"text-align: right; direction: rtl; float: right; clear: both;\">group_by</span>"
   ]
  },
  {
   "cell_type": "markdown",
   "metadata": {},
   "source": [
    "<p style=\"text-align: right; direction: rtl; float: right; clear: both;\">\n",
    "    כתבו פונקציה בשם <var>group_by</var> שמקבלת פונקציה כפרמטר ראשון, ו־iterable כפרמטר שני.<br>\n",
    "    הפונקציה תחזיר מילון, שבו:\n",
    "</p>"
   ]
  },
  {
   "cell_type": "markdown",
   "metadata": {},
   "source": [
    "<ul style=\"text-align: right; direction: rtl; float: right; clear: both;\">\n",
    "    <li>המפתחות הם הערכים שחזרו מהפונקציה שהועברה כפרמטר הראשון.</li>\n",
    "    <li>הערך התואם למפתח מסוים הוא רשימה של כל האיברים שעבורם חזר הערך המופיע במפתח.</li>\n",
    "</ul>"
   ]
  },
  {
   "cell_type": "markdown",
   "metadata": {},
   "source": [
    "<p style=\"text-align: right; direction: rtl; float: right; clear: both;\">\n",
    "לדוגמה, עבור הקריאה <code dir=\"ltr\" style=\"direction: ltr; text-align: left;\">group_by(len, [\"hi\", \"bye\", \"yo\", \"try\"])</code> יוחזר הערך: <samp dir=\"ltr\" style=\"direction: ltr; text-align: left;\">{2: [\"hi\", \"yo\"], 3: [\"bye\", \"try\"]}</samp>.\n",
    "</p>"
   ]
  },
  {
   "cell_type": "code",
   "execution_count": null,
   "metadata": {},
   "outputs": [],
   "source": [
    "def group_by(fun,lst):\n",
    "    res={fun(item):item for item in lst}\n",
    "    return res\n",
    "\n",
    "\n",
    "group_by(len,[\"hi\", \"bye\", \"yo\", \"try\"]) "
   ]
  },
  {
   "cell_type": "markdown",
   "metadata": {},
   "source": [
    "### <span style=\"text-align: right; direction: rtl; float: right; clear: both;\">zipwith</span>"
   ]
  },
  {
   "cell_type": "markdown",
   "metadata": {},
   "source": [
    "<p style=\"text-align: right; direction: rtl; float: right; clear: both;\">\n",
    "    כתבו פונקציה בשם <var>zip_with</var> שמקבלת פונקציה כפרמטר ראשון, ושני iterable־ים או יותר בפרמטרים שאחריו.<br>\n",
    "    הפונקציה תחזיר רשימה, שבה האיבר במקום ה־N־י הוא הערך שחזר מהעברת כל הערכים במקום ה־N־י של כל ה־iterables לפונקציה.\n",
    "</p>"
   ]
  },
  {
   "cell_type": "markdown",
   "metadata": {},
   "source": [
    "<p style=\"text-align: right; direction: rtl; float: right; clear: both;\">\n",
    "לדוגמה:\n",
    "</p>"
   ]
  },
  {
   "cell_type": "markdown",
   "metadata": {},
   "source": [
    "<ul style=\"text-align: right; direction: rtl; float: right; clear: both;\">\n",
    "    <li>עבור הקריאה <code dir=\"ltr\" style=\"direction: ltr; text-align: left;\">zipwith(sum, [1, 2, 3], [4, 5, 6])</code> יוחזר הערך: <samp dir=\"ltr\" style=\"direction: ltr; text-align: left;\">[5, 7, 9]</samp>.</li>\n",
    "    <li>עבור הקריאה <code dir=\"ltr\" style=\"direction: ltr; text-align: left;\">zipwith(max, (5, 4), (2, 5), (6, -6))</code> יוחזר הערך: <samp dir=\"ltr\" style=\"direction: ltr; text-align: left;\">[6, 5]</samp>.</li>\n",
    "</ul>"
   ]
  },
  {
   "cell_type": "markdown",
   "metadata": {},
   "source": [
    "<p style=\"text-align: right; direction: rtl; float: right; clear: both;\">\n",
    "    אפשר להניח שה־iterables המועברים לפונקציה זהים באורכם.\n",
    "</p>"
   ]
  },
  {
   "cell_type": "code",
   "execution_count": null,
   "metadata": {},
   "outputs": [],
   "source": [
    "def zipwith(fun,*itera):\n",
    "    return [fun(t) for t in zip(*itera)]\n",
    "\n",
    "zipwith(max, (5, 4), (2, 5), (6, -6))\n",
    "zipwith(sum, [1, 2, 3], [4, 5, 6])"
   ]
  },
  {
   "cell_type": "markdown",
   "metadata": {},
   "source": [
    "### <span style=\"text-align: right; direction: rtl; float: right; clear: both;\">זכרתם?</span>\n"
   ]
  },
  {
   "cell_type": "markdown",
   "metadata": {},
   "source": [
    "<p style=\"text-align: right; direction: rtl; float: right; clear: both;\">\n",
    "    כתבו פונקציה שמקבלת מסר להצפנה, ויוצרת ממנו תמונה מוצפנת.<br>\n",
    "    השתמשו בשיטת ההצפנה שהוצגה במחברת הקודמת. \n",
    "</p>"
   ]
  },
  {
   "cell_type": "code",
   "execution_count": null,
   "metadata": {},
   "outputs": [],
   "source": [
    "from PIL import Image\n",
    "\n",
    "\n",
    "def encrypt(file):\n",
    "    im = Image.open(file)\n",
    "    message=''\n",
    "    for row in range(im.size[0]):\n",
    "        for col in range(im.size[1]):         \n",
    "            if (im.getpixel((row,col)) == 1):\n",
    "                message =  message + chr(col)\n",
    "    im.close()\n",
    "    return message\n",
    "    \n",
    "    \n",
    "\n",
    "def decript(message,file):\n",
    "    im=Image.new('L', (len(message),255), color=255)\n",
    "    for i in range(len(message)):\n",
    "        im.putpixel((i,ord(message[i])),1)\n",
    "    im.save(file)\n",
    "    \n",
    "\n",
    "message = 'WXYZ !\"§ $%& /() =?* '\n",
    "file = \"resources/my_code.png\"\n",
    "decript(message,file)\n",
    "print ('test: ', encrypt(file) == message)\n"
   ]
  },
  {
   "cell_type": "markdown",
   "metadata": {},
   "source": [
    "### <span style=\"text-align: right; direction: rtl; float: right; clear: both;\">סט</span>"
   ]
  },
  {
   "cell_type": "markdown",
   "metadata": {},
   "source": [
    "<p style=\"text-align: right; direction: rtl; float: right; clear: both;\">\n",
    "    למדו את החוקים של המשחק סט, <a href=\"https://he.wikipedia.org/wiki/%D7%A1%D7%98_(%D7%9E%D7%A9%D7%97%D7%A7_%D7%A7%D7%9C%D7%A4%D7%99%D7%9D)\">מהערך בוויקיפדיה</a> או מ־<a href=\"https://www.youtube.com/watch?v=Kc4WrL7cxeg\">YouTube</a>.\n",
    "</p>"
   ]
  },
  {
   "cell_type": "markdown",
   "metadata": {},
   "source": [
    "<ol style=\"text-align: right; direction: rtl; float: right; clear: both;\">\n",
    "    <li>צרו חפיסת סט.</li>\n",
    "    <li>טרפו אותה היטב, ופתחו 12 קלפים על השולחן. הדפיסו את כל הסטים שמצאתם.</li>\n",
    "    <li>בדקו בכמה אחוזים מהפעמים שבהן פותחים 12 קלפים אקראיים מהחפיסה – אין אף סט על הלוח.</li>\n",
    "</ol>"
   ]
  },
  {
   "cell_type": "markdown",
   "metadata": {},
   "source": [
    "<p style=\"text-align: right; direction: rtl; float: right; clear: both;\">\n",
    "    כדי לחשב את סעיף 3, הריצו את הבדיקה על 10,000 מקרים שבהם פתחתם 12 קלפים מהחפיסה המעורבבת.\n",
    "</p>"
   ]
  },
  {
   "cell_type": "code",
   "execution_count": null,
   "metadata": {},
   "outputs": [],
   "source": [
    "from random import shuffle\n",
    "\n",
    "def set_gen():\n",
    "    return [(color,shape,fill,num)\n",
    "    for color in ['red','green','purple']\n",
    "    for shape in ['M','T','A']\n",
    "    for fill in ['full','empty','stripes']\n",
    "    for num in [1,2,3]]\n",
    "    \n",
    "def play():\n",
    "    set_play = set_gen()\n",
    "    shuffle(set_play)\n",
    "    set_play_12_cards = set_play[:12]\n",
    "    return set_play_12_cards\n",
    "\n",
    "def is_series(*items):\n",
    "    for i in range(len(items[0])):\n",
    "        tmp=set()\n",
    "        for item in items:\n",
    "            tmp.add(item[i])\n",
    "        #print(tmp)\n",
    "        if len(tmp) != 1 and len(tmp) != len(items):\n",
    "            return False\n",
    "    return True\n",
    "\n",
    "def find_set(cards): \n",
    "    for i in cards:\n",
    "        for j in cards:\n",
    "            for k in cards:\n",
    "                if i != j and j!= k and is_series(i,j,k):\n",
    "                    return True\n",
    "    return False\n",
    "    \n",
    "\n",
    "def statistics(m):\n",
    "    sample = [find_set(play()) for _ in range(m)]\n",
    "    return 100 * (sample.count(False)/len(sample))\n",
    "\n",
    "\n",
    "print(statistics(10000))\n"
   ]
  },
  {
   "cell_type": "markdown",
   "metadata": {},
   "source": [
    "### <span style=\"text-align: right; direction: rtl; float: right; clear: both;\">100 מעלות</span>"
   ]
  },
  {
   "cell_type": "markdown",
   "metadata": {},
   "source": [
    "<p style=\"text-align: right; direction: rtl; float: right; clear: both;\">\n",
    "    כתבו קוד שמוצא את 100 השירים הפופולריים ביותר לפי מדד <a href=\"https://www.billboard.com/charts/hot-100\">Hot 100</a> של Billboard.<br>\n",
    "    השיגו את המילים של השירים שמצאתם, ושרטטו גרף שמראה כמה פעמים מופיעה כל מילה מ־100 המילים הנפוצות ביותר בכל השירים.\n",
    "</p>"
   ]
  },
  {
   "cell_type": "markdown",
   "metadata": {},
   "source": [
    "<p style=\"text-align: right; direction: rtl; float: right; clear: both;\">\n",
    "    בונוס: בצעו ניתוח מעניין אחר, כמו מיהם האומנים שמשתמשים בהכי הרבה מילים בשירים שלהם!\n",
    "</p>"
   ]
  },
  {
   "cell_type": "code",
   "execution_count": null,
   "metadata": {},
   "outputs": [],
   "source": [
    "#!/usr/local/opt/python@3.8/bin/python3.8 -m pip install billboard.py\n",
    "#!/usr/local/opt/python@3.8/bin/python3.8 -m pip install py-charts\n",
    "#!/usr/local/opt/python@3.8/bin/python3.8 -m pip install lyricsgenius"
   ]
  },
  {
   "cell_type": "code",
   "execution_count": null,
   "metadata": {},
   "outputs": [],
   "source": [
    "import billboard\n",
    "import lyricsgenius\n",
    "import pycharts\n",
    "\n",
    "genius = lyricsgenius.Genius('xuKyJXRJ1o6Dz0srthkE_z7cKZRXrNFAoy60FavPaWfo4TgNhaxHkPnkAEJHDQEu')\n",
    "        \n",
    "def get_songs():\n",
    "    chart = billboard.ChartData('hot-100')[0:100]\n",
    "    songs=[]\n",
    "    for song in chart:\n",
    "        result=genius.search_song(song.title,song.artist)\n",
    "        if result:\n",
    "            songs.append(result.lyrics)\n",
    "    return songs\n",
    "\n",
    "songs = get_songs()"
   ]
  },
  {
   "cell_type": "code",
   "execution_count": null,
   "metadata": {},
   "outputs": [],
   "source": [
    "\n",
    "def clear(s):\n",
    "    return ''.join( c for c in s if  c not in '?:!/;[](),')\n",
    "\n",
    "words = []\n",
    "for song in songs:\n",
    "    song=clear(song)\n",
    "    words.extend(song.split())\n",
    "\n",
    "statistics={}\n",
    "for word in words:\n",
    "    statistics[word] = statistics.get(word,0) + 1\n",
    "\n",
    "sorted_statistics = {}\n",
    "for w in sorted(statistics, key=statistics.get, reverse=True):\n",
    "    sorted_statistics[w] = statistics[w]\n",
    "    \n",
    "print(sorted_statistics)"
   ]
  },
  {
   "cell_type": "code",
   "execution_count": null,
   "metadata": {},
   "outputs": [],
   "source": [
    "chart_data = list(map(lambda x:[x[0],x[1]],sorted_statistics.items()))\n",
    "for i in range(0,100,10):\n",
    "    pycharts.bar(title=f\"Bar Graph Title {i} - {i+10}\", data=chart_data[i:i+10])"
   ]
  }
 ],
 "metadata": {
  "kernelspec": {
   "display_name": "Python 3",
   "language": "python",
   "name": "python3"
  },
  "language_info": {
   "codemirror_mode": {
    "name": "ipython",
    "version": 3
   },
   "file_extension": ".py",
   "mimetype": "text/x-python",
   "name": "python",
   "nbconvert_exporter": "python",
   "pygments_lexer": "ipython3",
   "version": "3.8.8"
  }
 },
 "nbformat": 4,
 "nbformat_minor": 4
}
